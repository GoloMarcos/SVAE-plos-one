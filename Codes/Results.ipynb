{
  "nbformat": 4,
  "nbformat_minor": 0,
  "metadata": {
    "colab": {
      "name": "Results.ipynb",
      "provenance": [],
      "collapsed_sections": []
    },
    "kernelspec": {
      "name": "python3",
      "display_name": "Python 3"
    }
  },
  "cells": [
    {
      "cell_type": "code",
      "metadata": {
        "id": "ZGqG-vzt-ny1"
      },
      "source": [
        "from pathlib import Path\n",
        "import numpy as np\n",
        "import pandas as pd\n",
        "import csv"
      ],
      "execution_count": null,
      "outputs": []
    },
    {
      "cell_type": "code",
      "metadata": {
        "id": "0lWhC5yWINnc"
      },
      "source": [
        "method = 'DBERT'"
      ],
      "execution_count": null,
      "outputs": []
    },
    {
      "cell_type": "code",
      "metadata": {
        "id": "FR7vkbphBP9H"
      },
      "source": [
        "lista = []\n",
        "basepath = Path('/content/drive/My Drive/USP/qualis/Experimentos/Resultados/'+method+'/Fold1/')\n",
        "files_in_basepath = basepath.iterdir()\n",
        "for item in files_in_basepath:\n",
        "  if item.is_file():\n",
        "    lista.append(item.name)"
      ],
      "execution_count": null,
      "outputs": []
    },
    {
      "cell_type": "code",
      "metadata": {
        "id": "MFiNf-1d_KUE"
      },
      "source": [
        "for base in lista:\n",
        "  dic = {}\n",
        "  pre = {}\n",
        "  rev= {}\n",
        "  time = {}\n",
        "  for i in range(1,11):\n",
        "    arq = open('/content/drive/My Drive/USP/qualis/Experimentos/Resultados/'+method+'/Fold'+ str(i)+'/' + base, 'r')\n",
        "    mat_embedding = list()\n",
        "    reader = csv.reader(arq, delimiter=';')\n",
        "    entrou = False\n",
        "    for line in reader:\n",
        "      if entrou:\n",
        "        if line[0] in dic:\n",
        "          dic[line[0]] += float(line[3]) \n",
        "          pre[line[0]] += float(line[1])\n",
        "          rev[line[0]] += float(line[2])\n",
        "          time[line[0]] += float(line[4])\n",
        "        else:\n",
        "          dic[line[0]] = float(line[3]) \n",
        "          pre[line[0]] = float(line[1])\n",
        "          rev[line[0]] = float(line[2])\n",
        "          time[line[0]] = float(line[4])\n",
        "      entrou = True\n",
        "\n",
        "  for model in dic.keys():\n",
        "    dic[model] = dic[model]/10\n",
        "    pre[model] = pre[model]/10\n",
        "    rev[model] = rev[model]/10\n",
        "    time[model] = time[model]/10\n",
        "\n",
        "  arq1 = open('/content/drive/My Drive/USP/qualis/Experimentos/Resultados/Resultados-Totais/' + base,'w')\n",
        "  arq1.write('Parameters;Precisao;Revocacao;F1-Score;Tempo\\n')\n",
        "  for model in dic.keys():\n",
        "    arq1.write(model + ';' +str(\"%.4f\" %pre[model]) + ';' + (\"%.4f\" %rev[model]) + ';' +(\"%.4f\" %dic[model]) + ';' +str(\"%.4f\" %time[model]) + '\\n')\n",
        "  arq1.close()"
      ],
      "execution_count": null,
      "outputs": []
    },
    {
      "cell_type": "code",
      "metadata": {
        "id": "DDHcjtKT-5Ti"
      },
      "source": [
        "dic_SVAE = {}\n",
        "dic_DistilBERT = {}\n",
        "\n",
        "basepath = Path('/content/drive/My Drive/USP/qualis/Experimentos/Resultados/Resultados-Totais/')\n",
        "files_in_basepath = basepath.iterdir()\n",
        "for item in files_in_basepath:\n",
        "  if item.is_file():\n",
        "    caminho = '/content/drive/My Drive/USP/qualis/Experimentos/Resultados/Resultados-Totais/' + item.name \n",
        "\n",
        "    df = pd.read_csv(caminho, sep=';')\n",
        "\n",
        "    best_f1 = max(df['F1-Score'])\n",
        "\n",
        "    if item.name.split('_')[1] == 'VAE' : dic_SVAE[item.name.split('_')[0]] = best_f1\n",
        "\n",
        "    if item.name.split('_')[1] == 'DistilBERTML' : dic_DistilBERT[item.name.split('_')[0]] = best_f1"
      ],
      "execution_count": null,
      "outputs": []
    },
    {
      "cell_type": "code",
      "metadata": {
        "id": "3Y3yholGKPp8"
      },
      "source": [
        "lista = list()\n",
        "for base in dic_SVAE.keys():\n",
        "  lista.append((base, dic_SVAE[base] - dic_DistilBERT[base]))"
      ],
      "execution_count": null,
      "outputs": []
    },
    {
      "cell_type": "code",
      "metadata": {
        "id": "FK7Rqv8-KQNe"
      },
      "source": [
        "lista.sort(key=lambda x: x[1], reverse= True)"
      ],
      "execution_count": null,
      "outputs": []
    },
    {
      "cell_type": "code",
      "metadata": {
        "id": "MzXDiQ_1KhSv"
      },
      "source": [
        "lista"
      ],
      "execution_count": null,
      "outputs": []
    },
    {
      "cell_type": "code",
      "metadata": {
        "id": "LmJfYzKfKfmW"
      },
      "source": [
        "arquivo = open('/content/drive/My Drive/USP/qualis/Experimentos/Resultados/Resultado-Final.csv', 'w')\n",
        "\n",
        "arquivo.write('Bases;VAE;DistilBERT;Diference\\n')\n",
        "\n",
        "for b in lista:\n",
        "  base = b[0]\n",
        "  tring = base + ';' + str(dic_SVAE[base]) + ';' + str(dic_DistilBERT[base]) + ';' + str(\"%.4f\" % (dic_SVAE[base] - dic_DistilBERT[base])) + '\\n'\n",
        "  arquivo.write(tring)\n",
        "arquivo.close()"
      ],
      "execution_count": null,
      "outputs": []
    },
    {
      "cell_type": "code",
      "metadata": {
        "colab": {
          "base_uri": "https://localhost:8080/"
        },
        "id": "pCH723wdF3mr",
        "outputId": "c1be4a0c-cb3a-431c-94ac-66094548d60c"
      },
      "source": [
        "from scipy.stats import wilcoxon\n",
        "\n",
        "SVAE = []\n",
        "\n",
        "DBERT = []\n",
        "\n",
        "for base in dic_SVAE.keys():\n",
        "  SVAE.append(dic_SVAE[base])\n",
        "  DBERT.append(dic_DistilBERT[base])\n",
        "\n",
        "stat,p = wilcoxon(SVAE,DBERT)\n",
        "\n",
        "alpha = 0.05\n",
        "\n",
        "print(p)\n",
        "\n",
        "if p > alpha:\n",
        "  print('Mesma distribuição')\n",
        "else:\n",
        "  print('Distribuição Diferente')"
      ],
      "execution_count": null,
      "outputs": [
        {
          "output_type": "stream",
          "text": [
            "4.103211601175369e-31\n",
            "Distribuição Diferente\n"
          ],
          "name": "stdout"
        }
      ]
    },
    {
      "cell_type": "code",
      "metadata": {
        "id": "q5krjCQBH0hw"
      },
      "source": [
        "D = []\n",
        "for base in dic_SVAE.keys():\n",
        "  D.append(abs(dic_SVAE[base] - dic_DistilBERT[base]))"
      ],
      "execution_count": null,
      "outputs": []
    },
    {
      "cell_type": "code",
      "metadata": {
        "colab": {
          "base_uri": "https://localhost:8080/"
        },
        "id": "6U3gXWJOH2dP",
        "outputId": "52e84107-7d79-45a0-e394-8e6f986fcab2"
      },
      "source": [
        "D = np.array(D)\n",
        "\n",
        "mean = np.mean(D)\n",
        "\n",
        "std = np.std(D)\n",
        "\n",
        "print(mean,std)"
      ],
      "execution_count": null,
      "outputs": [
        {
          "output_type": "stream",
          "text": [
            "0.029527868852459022 0.01413748802260705\n"
          ],
          "name": "stdout"
        }
      ]
    },
    {
      "cell_type": "code",
      "metadata": {
        "id": "IMspNml4H8ls",
        "colab": {
          "base_uri": "https://localhost:8080/"
        },
        "outputId": "2b9b3c0d-605a-4e36-ad93-ba2264063ff1"
      },
      "source": [
        "C = mean + (2 * std)\n",
        "C"
      ],
      "execution_count": null,
      "outputs": [
        {
          "output_type": "execute_result",
          "data": {
            "text/plain": [
              "0.05780284489767312"
            ]
          },
          "metadata": {
            "tags": []
          },
          "execution_count": 11
        }
      ]
    },
    {
      "cell_type": "code",
      "metadata": {
        "id": "dM1F5JOKJ3C5"
      },
      "source": [
        "# Code to extract the precision and recall to plot in a Figure\n",
        "\n",
        "arquivo1 = open('VAE_pre-rev.csv', 'w')\n",
        "arquivo2 = open('DBERT_pre-rev.csv', 'w')\n",
        "arquivo1.write('Precisao;Revocacao\\n')\n",
        "arquivo2.write('Precisao;Revocacao\\n')\n",
        "\n",
        "basepath = Path('/content/drive/My Drive/USP/qualis/Experimentos/Resultados/Resultados-Totais/')\n",
        "files_in_basepath = basepath.iterdir()\n",
        "for item in files_in_basepath:\n",
        "  if item.is_file():\n",
        "    caminho = '/content/drive/My Drive/USP/qualis/Experimentos/Resultados/Resultados-Totais/' + item.name  \n",
        "\n",
        "    df = pd.read_csv(caminho, sep=';')\n",
        "\n",
        "    best_f1 = max(df['F1-Score'])\n",
        "\n",
        "    pre = df[df['F1-Score']==best_f1]['Precisao']\n",
        "\n",
        "    rev = df[df['F1-Score']==best_f1]['Revocacao']\n",
        "      \n",
        "    if item.name.split('_')[1] == 'VAE' :\n",
        "      arquivo1.write(str(\"%.4f\" %pre.iloc[0]) + ';' + str(\"%.4f\" %rev.iloc[0]) + '\\n')\n",
        "\n",
        "    if item.name.split('_')[1] == 'DistilBERTML' : \n",
        "      arquivo2.write(str(\"%.4f\" %pre.iloc[0]) + ';' + str(\"%.4f\" %rev.iloc[0]) + '\\n')\n",
        "\n",
        "arquivo1.close()\n",
        "arquivo2.close()"
      ],
      "execution_count": null,
      "outputs": []
    }
  ]
}