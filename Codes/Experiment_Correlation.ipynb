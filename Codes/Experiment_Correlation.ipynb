{
  "nbformat": 4,
  "nbformat_minor": 0,
  "metadata": {
    "colab": {
      "name": "Experiment-Correlation.ipynb",
      "provenance": [],
      "collapsed_sections": [],
      "toc_visible": true
    },
    "kernelspec": {
      "name": "python3",
      "display_name": "Python 3"
    },
    "language_info": {
      "name": "python"
    }
  },
  "cells": [
    {
      "cell_type": "markdown",
      "metadata": {
        "id": "bZNsLcsdjiS4"
      },
      "source": [
        "# Geographic Information Preservation from SVAE\n"
      ]
    },
    {
      "cell_type": "code",
      "metadata": {
        "id": "MXoA3BGufdDz",
        "colab": {
          "base_uri": "https://localhost:8080/"
        },
        "outputId": "fba4577a-9f9f-494c-e379-4404feaf5e13"
      },
      "source": [
        "!gdown --id 1MSNlISlIX8QUhSOUjMdaYwYydg2K7FR2"
      ],
      "execution_count": 1,
      "outputs": [
        {
          "output_type": "stream",
          "name": "stdout",
          "text": [
            "Downloading...\n",
            "From: https://drive.google.com/uc?id=1MSNlISlIX8QUhSOUjMdaYwYydg2K7FR2\n",
            "To: /content/Spearman.plk\n",
            "\r  0% 0.00/3.02M [00:00<?, ?B/s]\r100% 3.02M/3.02M [00:00<00:00, 95.7MB/s]\n"
          ]
        }
      ]
    },
    {
      "cell_type": "code",
      "metadata": {
        "id": "kqexl9ANzgYV"
      },
      "source": [
        "import pandas as pd\n",
        "df = pd.read_pickle('Spearman.plk')"
      ],
      "execution_count": 2,
      "outputs": []
    },
    {
      "cell_type": "code",
      "metadata": {
        "colab": {
          "base_uri": "https://localhost:8080/",
          "height": 589
        },
        "id": "cS-HIX5kzrDj",
        "outputId": "3955a66e-795e-4c4c-f07d-6e90f9724a03"
      },
      "source": [
        "df"
      ],
      "execution_count": 3,
      "outputs": [
        {
          "output_type": "execute_result",
          "data": {
            "text/html": [
              "<div>\n",
              "<style scoped>\n",
              "    .dataframe tbody tr th:only-of-type {\n",
              "        vertical-align: middle;\n",
              "    }\n",
              "\n",
              "    .dataframe tbody tr th {\n",
              "        vertical-align: top;\n",
              "    }\n",
              "\n",
              "    .dataframe thead th {\n",
              "        text-align: right;\n",
              "    }\n",
              "</style>\n",
              "<table border=\"1\" class=\"dataframe\">\n",
              "  <thead>\n",
              "    <tr style=\"text-align: right;\">\n",
              "      <th></th>\n",
              "      <th>Id</th>\n",
              "      <th>Date</th>\n",
              "      <th>Title</th>\n",
              "      <th>Location</th>\n",
              "      <th>lat_long</th>\n",
              "      <th>DBERTML</th>\n",
              "      <th>SVAE</th>\n",
              "    </tr>\n",
              "  </thead>\n",
              "  <tbody>\n",
              "    <tr>\n",
              "      <th>0</th>\n",
              "      <td>20201201063000-34</td>\n",
              "      <td>2020-12-01</td>\n",
              "      <td>What you need to know about the coronavirus ri...</td>\n",
              "      <td>[1#Australia#AS#AS#-25#135#AS, 1#Japan#JA#JA#3...</td>\n",
              "      <td>[39.0, 22.0]</td>\n",
              "      <td>[-0.0072576646, -0.02582291, -0.003682414, 0.0...</td>\n",
              "      <td>[2.1830099, 0.92051065]</td>\n",
              "    </tr>\n",
              "    <tr>\n",
              "      <th>1</th>\n",
              "      <td>20201201041500-T84</td>\n",
              "      <td>2020-12-01</td>\n",
              "      <td>Hotspot Hildburghausen - Coronavirus: Erstmals...</td>\n",
              "      <td>[4#Hildburghausen, ThüN, Germany#GM#GM15#50.41...</td>\n",
              "      <td>[48.5833, 13.4833]</td>\n",
              "      <td>[0.0046650707, 0.015381211, -0.0039752894, -0....</td>\n",
              "      <td>[2.1360977, 0.9127404]</td>\n",
              "    </tr>\n",
              "    <tr>\n",
              "      <th>2</th>\n",
              "      <td>20201201183000-486</td>\n",
              "      <td>2020-12-01</td>\n",
              "      <td>Drop in new coronavirus cases continues as Tee...</td>\n",
              "      <td>[4#Middlesbrough, Redcar And Cleveland, United...</td>\n",
              "      <td>[54.6861, -1.2125]</td>\n",
              "      <td>[0.011455059, -0.01913472, 0.047539406, 0.0005...</td>\n",
              "      <td>[2.213049, 0.9966634]</td>\n",
              "    </tr>\n",
              "    <tr>\n",
              "      <th>3</th>\n",
              "      <td>20201201014500-T434</td>\n",
              "      <td>2020-12-01</td>\n",
              "      <td>Coronavirus: Hospital de Rusia dice que inici&amp;...</td>\n",
              "      <td>[4#Rossiya, Orenburgskaya Oblast', Russia#RS#R...</td>\n",
              "      <td>[59.8944, 30.2642]</td>\n",
              "      <td>[0.048162363, 0.019175265, 0.038116246, -0.017...</td>\n",
              "      <td>[2.5785754, 1.1004764]</td>\n",
              "    </tr>\n",
              "    <tr>\n",
              "      <th>4</th>\n",
              "      <td>20201201193000-1808</td>\n",
              "      <td>2020-12-01</td>\n",
              "      <td>Coronavirus live updates: Ex-CDC head warns of...</td>\n",
              "      <td>[1#Puerto Rico#RQ#RQ#18.2359#-66.4838#RQ, 1#Ge...</td>\n",
              "      <td>[26.0, 50.5]</td>\n",
              "      <td>[-0.006703769, 0.011988984, 0.016676728, -0.00...</td>\n",
              "      <td>[2.7467365, 1.2118453]</td>\n",
              "    </tr>\n",
              "    <tr>\n",
              "      <th>...</th>\n",
              "      <td>...</td>\n",
              "      <td>...</td>\n",
              "      <td>...</td>\n",
              "      <td>...</td>\n",
              "      <td>...</td>\n",
              "      <td>...</td>\n",
              "      <td>...</td>\n",
              "    </tr>\n",
              "    <tr>\n",
              "      <th>1195</th>\n",
              "      <td>20190922221500-175</td>\n",
              "      <td>2019-09-22</td>\n",
              "      <td>Surf Curse envelops Great American Music Hall ...</td>\n",
              "      <td>[2#Nevada, United States#US#USNV#38.4199#-117....</td>\n",
              "      <td>[39.828175, -98.5795]</td>\n",
              "      <td>[-0.033044953, 0.07393407, -0.04212451, -0.040...</td>\n",
              "      <td>[1.1370866, 0.52174604]</td>\n",
              "    </tr>\n",
              "    <tr>\n",
              "      <th>1196</th>\n",
              "      <td>20190922234500-864</td>\n",
              "      <td>2019-09-22</td>\n",
              "      <td>Lil Nas X, Monsta X, And 9 More Surprises From...</td>\n",
              "      <td>[1#United States#US#US#39.828175#-98.5795#US, ...</td>\n",
              "      <td>[54.0, -4.0]</td>\n",
              "      <td>[-0.0016908045, 0.039071925, -0.10047092, -0.0...</td>\n",
              "      <td>[1.189237, 0.6030717]</td>\n",
              "    </tr>\n",
              "    <tr>\n",
              "      <th>1197</th>\n",
              "      <td>20190922201500-419</td>\n",
              "      <td>2019-09-22</td>\n",
              "      <td>KORN's JONATHAN DAVIS Picks OZZY OSBOURNE As H...</td>\n",
              "      <td>[3#Sacramento, California, United States#US#US...</td>\n",
              "      <td>[39.828175, -98.5795]</td>\n",
              "      <td>[0.052535586, 0.012243916, 0.0142680155, -0.04...</td>\n",
              "      <td>[1.2347138, 0.4958021]</td>\n",
              "    </tr>\n",
              "    <tr>\n",
              "      <th>1198</th>\n",
              "      <td>20190922233000-917</td>\n",
              "      <td>2019-09-22</td>\n",
              "      <td>German orchestra performs Chinese music markin...</td>\n",
              "      <td>[1#Germany#GM#GM#51.5#10.5#GM, 4#Beijing, Beij...</td>\n",
              "      <td>[37.7575, 119.076]</td>\n",
              "      <td>[-0.037184365, 0.04114759, -0.05080799, -0.045...</td>\n",
              "      <td>[0.88296753, 0.39354628]</td>\n",
              "    </tr>\n",
              "    <tr>\n",
              "      <th>1199</th>\n",
              "      <td>20190922154500-713</td>\n",
              "      <td>2019-09-22</td>\n",
              "      <td>Bahrain News: Music for peace...</td>\n",
              "      <td>[1#Bahrain#BA#BA#26#50.5#BA]</td>\n",
              "      <td>[26.0, 50.5]</td>\n",
              "      <td>[-0.058530755, -0.042581894, -0.01406717, 0.00...</td>\n",
              "      <td>[0.8118796, 0.41646725]</td>\n",
              "    </tr>\n",
              "  </tbody>\n",
              "</table>\n",
              "<p>1200 rows × 7 columns</p>\n",
              "</div>"
            ],
            "text/plain": [
              "                       Id  ...                      SVAE\n",
              "0       20201201063000-34  ...   [2.1830099, 0.92051065]\n",
              "1      20201201041500-T84  ...    [2.1360977, 0.9127404]\n",
              "2      20201201183000-486  ...     [2.213049, 0.9966634]\n",
              "3     20201201014500-T434  ...    [2.5785754, 1.1004764]\n",
              "4     20201201193000-1808  ...    [2.7467365, 1.2118453]\n",
              "...                   ...  ...                       ...\n",
              "1195   20190922221500-175  ...   [1.1370866, 0.52174604]\n",
              "1196   20190922234500-864  ...     [1.189237, 0.6030717]\n",
              "1197   20190922201500-419  ...    [1.2347138, 0.4958021]\n",
              "1198   20190922233000-917  ...  [0.88296753, 0.39354628]\n",
              "1199   20190922154500-713  ...   [0.8118796, 0.41646725]\n",
              "\n",
              "[1200 rows x 7 columns]"
            ]
          },
          "metadata": {},
          "execution_count": 3
        }
      ]
    },
    {
      "cell_type": "markdown",
      "metadata": {
        "id": "E5bA6PDajo1F"
      },
      "source": [
        "# BERT Experiment\n",
        "\n",
        "\n"
      ]
    },
    {
      "cell_type": "code",
      "metadata": {
        "id": "_KuCAziuzyaf"
      },
      "source": [
        "from scipy.spatial.distance import euclidean\n",
        "import random\n",
        "from scipy.stats import spearmanr\n",
        "import numpy as np\n",
        "from sklearn.metrics.pairwise import haversine_distances\n",
        "from math import radians"
      ],
      "execution_count": 5,
      "outputs": []
    },
    {
      "cell_type": "code",
      "metadata": {
        "id": "Kd3zy_6KvpyC",
        "colab": {
          "base_uri": "https://localhost:8080/"
        },
        "outputId": "ac2f8b5e-cc86-414c-a0b8-08f97bbade5f"
      },
      "source": [
        "matrix_distance_bert = []\n",
        "matrix_distance_ll = []\n",
        "\n",
        "repetitions = 5000\n",
        "\n",
        "for k in range(repetitions): \n",
        "\n",
        "  seed = k\n",
        "\n",
        "  random.seed(seed)\n",
        "  \n",
        "  matrix_distance_bert.append([])\n",
        "  matrix_distance_ll.append([])\n",
        "\n",
        "  for w in range(30): \n",
        "    i = random.randint(0, 1000)\n",
        "    j = random.randint(0, 1000)\n",
        "    while (i == j):\n",
        "      j = random.randint(0, 1000)\n",
        "\n",
        "    dist_bert = euclidean(df['DBERTML'][i], df['DBERTML'][j])\n",
        "    bsas_in_radians = [radians(_) for _ in df['lat_long'][i]]\n",
        "    paris_in_radians = [radians(_) for _ in df['lat_long'][j]]\n",
        "    dist_ll = haversine_distances([bsas_in_radians, paris_in_radians])\n",
        "    matrix_distance_bert[k].append(dist_bert)\n",
        "    matrix_distance_ll[k].append(dist_ll[0][1])\n",
        "  \n",
        "  for w in range(30):\n",
        "    g = random.randint(0, 1000)\n",
        "    o = random.randint(1000, 1199)\n",
        "\n",
        "    dist_bert = euclidean(df['DBERTML'][g], df['DBERTML'][o])\n",
        "    bsas_in_radians = [radians(_) for _ in df['lat_long'][g]]\n",
        "    paris_in_radians = [radians(_) for _ in df['lat_long'][o]]\n",
        "    dist_ll = haversine_distances([bsas_in_radians, paris_in_radians])\n",
        "    matrix_distance_bert[k].append(dist_bert)\n",
        "    matrix_distance_ll[k].append(dist_ll[0][1])\n",
        "  \n",
        "l = []\n",
        "\n",
        "for i in range(repetitions):\n",
        "  sc, pv = spearmanr(matrix_distance_bert[i], matrix_distance_ll[i])\n",
        "  l.append(abs(sc))\n",
        "\n",
        "np.mean(l)"
      ],
      "execution_count": 6,
      "outputs": [
        {
          "output_type": "execute_result",
          "data": {
            "text/plain": [
              "0.15787808099993217"
            ]
          },
          "metadata": {},
          "execution_count": 6
        }
      ]
    },
    {
      "cell_type": "code",
      "metadata": {
        "id": "-yhTRk0BJHd7"
      },
      "source": [
        "df1 = pd.DataFrame(l)"
      ],
      "execution_count": 7,
      "outputs": []
    },
    {
      "cell_type": "code",
      "metadata": {
        "colab": {
          "base_uri": "https://localhost:8080/",
          "height": 279
        },
        "id": "qU4VAufC8SE8",
        "outputId": "558cce92-2ada-409c-d917-105762f53899"
      },
      "source": [
        "import seaborn as sns\n",
        "import matplotlib.pyplot as plt\n",
        "\n",
        "ax = sns.histplot(data=df1, x=0,bins=20)\n",
        "ax.set(xlabel='Spearman\\'s rank correlation coefficient', ylabel='Frequency')\n",
        "\n",
        "plt.axvline(0.16, 0, 1, color='red')\n",
        "\n",
        "plt.savefig('spearman_geo_test1.pdf')\n",
        "plt.show()"
      ],
      "execution_count": 8,
      "outputs": [
        {
          "output_type": "display_data",
          "data": {
            "image/png": "[encoded data removed]",
            "text/plain": [
              "<Figure size 432x288 with 1 Axes>"
            ]
          },
          "metadata": {
            "needs_background": "light"
          }
        }
      ]
    },
    {
      "cell_type": "code",
      "metadata": {
        "colab": {
          "base_uri": "https://localhost:8080/",
          "height": 419
        },
        "id": "U585ac3C-Iry",
        "outputId": "1ed72772-b992-4d11-814f-04802bf2314c"
      },
      "source": [
        "df1[df1[0] > 0.16]"
      ],
      "execution_count": 11,
      "outputs": [
        {
          "output_type": "execute_result",
          "data": {
            "text/html": [
              "<div>\n",
              "<style scoped>\n",
              "    .dataframe tbody tr th:only-of-type {\n",
              "        vertical-align: middle;\n",
              "    }\n",
              "\n",
              "    .dataframe tbody tr th {\n",
              "        vertical-align: top;\n",
              "    }\n",
              "\n",
              "    .dataframe thead th {\n",
              "        text-align: right;\n",
              "    }\n",
              "</style>\n",
              "<table border=\"1\" class=\"dataframe\">\n",
              "  <thead>\n",
              "    <tr style=\"text-align: right;\">\n",
              "      <th></th>\n",
              "      <th>0</th>\n",
              "    </tr>\n",
              "  </thead>\n",
              "  <tbody>\n",
              "    <tr>\n",
              "      <th>3</th>\n",
              "      <td>0.163744</td>\n",
              "    </tr>\n",
              "    <tr>\n",
              "      <th>14</th>\n",
              "      <td>0.164937</td>\n",
              "    </tr>\n",
              "    <tr>\n",
              "      <th>15</th>\n",
              "      <td>0.461030</td>\n",
              "    </tr>\n",
              "    <tr>\n",
              "      <th>16</th>\n",
              "      <td>0.192442</td>\n",
              "    </tr>\n",
              "    <tr>\n",
              "      <th>17</th>\n",
              "      <td>0.183051</td>\n",
              "    </tr>\n",
              "    <tr>\n",
              "      <th>...</th>\n",
              "      <td>...</td>\n",
              "    </tr>\n",
              "    <tr>\n",
              "      <th>4990</th>\n",
              "      <td>0.328147</td>\n",
              "    </tr>\n",
              "    <tr>\n",
              "      <th>4991</th>\n",
              "      <td>0.199222</td>\n",
              "    </tr>\n",
              "    <tr>\n",
              "      <th>4994</th>\n",
              "      <td>0.198613</td>\n",
              "    </tr>\n",
              "    <tr>\n",
              "      <th>4995</th>\n",
              "      <td>0.306807</td>\n",
              "    </tr>\n",
              "    <tr>\n",
              "      <th>4996</th>\n",
              "      <td>0.371636</td>\n",
              "    </tr>\n",
              "  </tbody>\n",
              "</table>\n",
              "<p>2229 rows × 1 columns</p>\n",
              "</div>"
            ],
            "text/plain": [
              "             0\n",
              "3     0.163744\n",
              "14    0.164937\n",
              "15    0.461030\n",
              "16    0.192442\n",
              "17    0.183051\n",
              "...        ...\n",
              "4990  0.328147\n",
              "4991  0.199222\n",
              "4994  0.198613\n",
              "4995  0.306807\n",
              "4996  0.371636\n",
              "\n",
              "[2229 rows x 1 columns]"
            ]
          },
          "metadata": {},
          "execution_count": 11
        }
      ]
    },
    {
      "cell_type": "markdown",
      "metadata": {
        "id": "3BJvCugIj3Sg"
      },
      "source": [
        "# SVAE Experiment\n"
      ]
    },
    {
      "cell_type": "code",
      "metadata": {
        "id": "Ceh6JfKc-MUJ",
        "colab": {
          "base_uri": "https://localhost:8080/"
        },
        "outputId": "2731ae86-5cfa-43f4-c7ae-0bd66bbff6d9"
      },
      "source": [
        "matrix_distance_svae = []\n",
        "matrix_distance_ll = []\n",
        "\n",
        "repeticoes = 5000\n",
        "\n",
        "for k in range(repetitions): \n",
        "\n",
        "  seed = k\n",
        "\n",
        "  random.seed(seed)\n",
        "  \n",
        "  matrix_distance_svae.append([])\n",
        "  matrix_distance_ll.append([])\n",
        "\n",
        "  for w in range(30):\n",
        "    i = random.randint(0, 1000)\n",
        "    j = random.randint(0, 1000)\n",
        "    while (i == j):\n",
        "      j = random.randint(0, 1000)\n",
        "\n",
        "    dist_svae = euclidean(df['SVAE'][i], df['SVAE'][j])\n",
        "    bsas_in_radians = [radians(_) for _ in df['lat_long'][i]]\n",
        "    paris_in_radians = [radians(_) for _ in df['lat_long'][j]]\n",
        "    dist_ll = haversine_distances([bsas_in_radians, paris_in_radians])\n",
        "    matrix_distance_svae[k].append(dist_svae)\n",
        "    matrix_distance_ll[k].append(dist_ll[0][1])\n",
        "  \n",
        "  for w in range(30): \n",
        "    g = random.randint(0, 1000)\n",
        "    o = random.randint(1000, 1199)\n",
        "\n",
        "    dist_svae = euclidean(df['SVAE'][g], df['SVAE'][o])\n",
        "    bsas_in_radians = [radians(_) for _ in df['lat_long'][g]]\n",
        "    paris_in_radians = [radians(_) for _ in df['lat_long'][o]]\n",
        "    dist_ll = haversine_distances([bsas_in_radians, paris_in_radians])\n",
        "    matrix_distance_svae[k].append(dist_svae)\n",
        "    matrix_distance_ll[k].append(dist_ll[0][1])\n",
        "  \n",
        "l = []\n",
        "\n",
        "for i in range(repetitions):\n",
        "  sc, pv = spearmanr(matrix_distance_svae[i], matrix_distance_ll[i])\n",
        "  l.append(abs(sc))\n",
        "\n",
        "np.mean(l)"
      ],
      "execution_count": 12,
      "outputs": [
        {
          "output_type": "execute_result",
          "data": {
            "text/plain": [
              "0.144956131862649"
            ]
          },
          "metadata": {},
          "execution_count": 12
        }
      ]
    },
    {
      "cell_type": "code",
      "metadata": {
        "id": "M21NzVLD-TT0"
      },
      "source": [
        "df2 = pd.DataFrame(l)"
      ],
      "execution_count": 13,
      "outputs": []
    },
    {
      "cell_type": "code",
      "metadata": {
        "colab": {
          "base_uri": "https://localhost:8080/",
          "height": 279
        },
        "id": "4dNugYZe__yZ",
        "outputId": "e43f7e08-7dc5-41d0-b780-870dda588fc0"
      },
      "source": [
        "import seaborn as sns\n",
        "import matplotlib.pyplot as plt\n",
        "\n",
        "ax = sns.histplot(data=df2, x=0,bins=20)\n",
        "ax.set(xlabel='Spearman\\'s rank correlation coefficient', ylabel='Frequency')\n",
        "\n",
        "plt.axvline(0.16, 0, 1, color='red')\n",
        "\n",
        "plt.savefig('spearman_geo_test2.pdf')\n",
        "plt.show()"
      ],
      "execution_count": 14,
      "outputs": [
        {
          "output_type": "display_data",
          "data": {
            "image/png": "[encoded data removed]",
            "text/plain": [
              "<Figure size 432x288 with 1 Axes>"
            ]
          },
          "metadata": {
            "needs_background": "light"
          }
        }
      ]
    },
    {
      "cell_type": "code",
      "metadata": {
        "colab": {
          "base_uri": "https://localhost:8080/",
          "height": 419
        },
        "id": "Tal7TvFO9ta7",
        "outputId": "046617dc-5ea7-48aa-bd7e-6eb7b9a57085"
      },
      "source": [
        "df2[df2[0] > 0.16]"
      ],
      "execution_count": 15,
      "outputs": [
        {
          "output_type": "execute_result",
          "data": {
            "text/html": [
              "<div>\n",
              "<style scoped>\n",
              "    .dataframe tbody tr th:only-of-type {\n",
              "        vertical-align: middle;\n",
              "    }\n",
              "\n",
              "    .dataframe tbody tr th {\n",
              "        vertical-align: top;\n",
              "    }\n",
              "\n",
              "    .dataframe thead th {\n",
              "        text-align: right;\n",
              "    }\n",
              "</style>\n",
              "<table border=\"1\" class=\"dataframe\">\n",
              "  <thead>\n",
              "    <tr style=\"text-align: right;\">\n",
              "      <th></th>\n",
              "      <th>0</th>\n",
              "    </tr>\n",
              "  </thead>\n",
              "  <tbody>\n",
              "    <tr>\n",
              "      <th>2</th>\n",
              "      <td>0.183996</td>\n",
              "    </tr>\n",
              "    <tr>\n",
              "      <th>3</th>\n",
              "      <td>0.202562</td>\n",
              "    </tr>\n",
              "    <tr>\n",
              "      <th>12</th>\n",
              "      <td>0.169522</td>\n",
              "    </tr>\n",
              "    <tr>\n",
              "      <th>15</th>\n",
              "      <td>0.360110</td>\n",
              "    </tr>\n",
              "    <tr>\n",
              "      <th>16</th>\n",
              "      <td>0.223118</td>\n",
              "    </tr>\n",
              "    <tr>\n",
              "      <th>...</th>\n",
              "      <td>...</td>\n",
              "    </tr>\n",
              "    <tr>\n",
              "      <th>4993</th>\n",
              "      <td>0.219873</td>\n",
              "    </tr>\n",
              "    <tr>\n",
              "      <th>4994</th>\n",
              "      <td>0.234485</td>\n",
              "    </tr>\n",
              "    <tr>\n",
              "      <th>4995</th>\n",
              "      <td>0.219672</td>\n",
              "    </tr>\n",
              "    <tr>\n",
              "      <th>4996</th>\n",
              "      <td>0.280832</td>\n",
              "    </tr>\n",
              "    <tr>\n",
              "      <th>4999</th>\n",
              "      <td>0.174472</td>\n",
              "    </tr>\n",
              "  </tbody>\n",
              "</table>\n",
              "<p>1983 rows × 1 columns</p>\n",
              "</div>"
            ],
            "text/plain": [
              "             0\n",
              "2     0.183996\n",
              "3     0.202562\n",
              "12    0.169522\n",
              "15    0.360110\n",
              "16    0.223118\n",
              "...        ...\n",
              "4993  0.219873\n",
              "4994  0.234485\n",
              "4995  0.219672\n",
              "4996  0.280832\n",
              "4999  0.174472\n",
              "\n",
              "[1983 rows x 1 columns]"
            ]
          },
          "metadata": {},
          "execution_count": 15
        }
      ]
    }
  ]
}